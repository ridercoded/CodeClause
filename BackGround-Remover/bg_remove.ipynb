{
 "cells": [
  {
   "cell_type": "code",
   "execution_count": 4,
   "metadata": {},
   "outputs": [
    {
     "name": "stdout",
     "output_type": "stream",
     "text": [
      "Background removed and saved to /home/anish/Desktop/1011/output.png\n"
     ]
    }
   ],
   "source": [
    "from rembg import remove\n",
    "import easygui\n",
    "from PIL import Image\n",
    "\n",
    "inputPath = easygui.fileopenbox(title='Select image file', filetypes=[\"*.png\", \"*.jpg\", \"*.jpeg\"])\n",
    "outputPath = easygui.filesavebox(title='Select output file', default=inputPath.replace(\".\", \"_output.\"))\n",
    "\n",
    "inputImage = Image.open(inputPath)\n",
    "outputImage = remove(inputImage)\n",
    "\n",
    "outputImage.save(outputPath)\n",
    "\n",
    "print(\"Background removed and saved to\", outputPath)\n",
    "\n"
   ]
  },
  {
   "cell_type": "code",
   "execution_count": null,
   "metadata": {},
   "outputs": [],
   "source": [
    "# running the above python code\n",
    "#output.png is the image with removed background"
   ]
  }
 ],
 "metadata": {
  "kernelspec": {
   "display_name": "anish",
   "language": "python",
   "name": "python3"
  },
  "language_info": {
   "codemirror_mode": {
    "name": "ipython",
    "version": 3
   },
   "file_extension": ".py",
   "mimetype": "text/x-python",
   "name": "python",
   "nbconvert_exporter": "python",
   "pygments_lexer": "ipython3",
   "version": "3.10.12"
  },
  "orig_nbformat": 4
 },
 "nbformat": 4,
 "nbformat_minor": 2
}
